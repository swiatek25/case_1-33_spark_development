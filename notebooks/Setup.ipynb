{
 "cells": [
  {
   "cell_type": "code",
   "execution_count": 5,
   "id": "c249f9ac-fdf5-4ae3-ae04-8462de9fb78a",
   "metadata": {},
   "outputs": [
    {
     "data": {
      "text/plain": [
       "[259, 367, 787, 991, 8]"
      ]
     },
     "execution_count": 5,
     "metadata": {},
     "output_type": "execute_result"
    }
   ],
   "source": [
    "import pyspark\n",
    "from pyspark.sql import SparkSession\n",
    "\n",
    "spark = SparkSession.builder.master(\"local[*]\") \\\n",
    "                    .getOrCreate()\n",
    "sc = spark.sparkContext\n",
    "# do something to prove it works\n",
    "rdd = sc.parallelize(range(1000))\n",
    "rdd.takeSample(False, 5)\n",
    "\n"
   ]
  },
  {
   "cell_type": "code",
   "execution_count": 6,
   "id": "df9f95c2-9fa5-4e71-a3e5-4427876f49a7",
   "metadata": {},
   "outputs": [],
   "source": [
    "def readInputData(filename):\n",
    "    return spark.read.option(\"header\", True).option(\"charset\", \"UTF8\").option(\"delimiter\",\";\").csv(f\"../input/{filename}\")"
   ]
  },
  {
   "cell_type": "code",
   "execution_count": 7,
   "id": "b9279705-834c-4101-9ee3-aa92eacd1518",
   "metadata": {},
   "outputs": [],
   "source": [
    "accounts = readInputData(\"accounts.csv\") \n",
    "transactions = readInputData(\"transactions\")\n",
    "countryAbbrev = readInputData(\"country_abbreviation.csv\")"
   ]
  },
  {
   "cell_type": "code",
   "execution_count": 8,
   "id": "098366bf-310b-449e-abba-7bec67264148",
   "metadata": {},
   "outputs": [
    {
     "name": "stdout",
     "output_type": "stream",
     "text": [
      "Dataframe accounts => count: 500000\n",
      "Dataframe transactions => count: 5000000\n",
      "Dataframe countryAbbrev => count: 121\n"
     ]
    }
   ],
   "source": [
    "def printInfo(name, df):\n",
    "    print(f\"Dataframe {name} => count: {df.count()}\")\n",
    "\n",
    "printInfo(\"accounts\", accounts)\n",
    "printInfo(\"transactions\", transactions)\n",
    "printInfo(\"countryAbbrev\", countryAbbrev)"
   ]
  },
  {
   "cell_type": "code",
   "execution_count": null,
   "id": "35359963-98b1-42be-a4fc-18602c6a336c",
   "metadata": {},
   "outputs": [],
   "source": []
  }
 ],
 "metadata": {
  "kernelspec": {
   "display_name": "Python 3 (ipykernel)",
   "language": "python",
   "name": "python3"
  },
  "language_info": {
   "codemirror_mode": {
    "name": "ipython",
    "version": 3
   },
   "file_extension": ".py",
   "mimetype": "text/x-python",
   "name": "python",
   "nbconvert_exporter": "python",
   "pygments_lexer": "ipython3",
   "version": "3.11.4"
  }
 },
 "nbformat": 4,
 "nbformat_minor": 5
}
